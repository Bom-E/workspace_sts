{
 "cells": [
  {
   "cell_type": "code",
   "execution_count": 1,
   "metadata": {},
   "outputs": [],
   "source": [
    "import pymysql\n",
    "import pandas"
   ]
  },
  {
   "cell_type": "code",
   "execution_count": 8,
   "metadata": {},
   "outputs": [
    {
     "name": "stdout",
     "output_type": "stream",
     "text": [
      "[{'BOARD_NUM': 1, 'TITLE': '테스트', 'WRITER': 'ADMIN', 'READ_CNT': 5}, {'BOARD_NUM': 2, 'TITLE': '테스트', 'WRITER': 'ADMIN', 'READ_CNT': 5}, {'BOARD_NUM': 3, 'TITLE': '배고파', 'WRITER': '밥작먹', 'READ_CNT': 5}]\n"
     ]
    }
   ],
   "source": [
    "main()"
   ]
  },
  {
   "cell_type": "code",
   "execution_count": 9,
   "metadata": {},
   "outputs": [],
   "source": [
    "def main():\n",
    "    conn = getConnection()\n",
    "    sql = 'SELECT * FROM PYTHON_BOARD'\n",
    "    result = selectList(sql, conn)\n",
    "    print(result)\n",
    "\n",
    "    conn.close()"
   ]
  },
  {
   "cell_type": "code",
   "execution_count": 4,
   "metadata": {},
   "outputs": [],
   "source": [
    "# 디비 연결하는 함수\n",
    "def getConnection():\n",
    "    conn = pymysql.Connect(\n",
    "                host='localhost'\n",
    "                , user='study_user'\n",
    "                , password='mariadb'\n",
    "                , db='study_db'\n",
    "                , charset='utf8')\n",
    "    return conn"
   ]
  },
  {
   "cell_type": "code",
   "execution_count": 6,
   "metadata": {},
   "outputs": [],
   "source": [
    "# 목록 조회 함수\n",
    "def selectList(sql, conn):\n",
    "    cursor= conn.cursor(pymysql.cursors.DictCursor)\n",
    "    cursor.execute(sql)\n",
    "    result = cursor.fetchall()\n",
    "    return result"
   ]
  },
  {
   "cell_type": "code",
   "execution_count": null,
   "metadata": {},
   "outputs": [],
   "source": [
    "# 한 행 데이터 insert\n",
    "def insertOne(dicData, conn):\n",
    "    cursor= conn.cursor(pymysql.cursors.DictCursor)\n",
    "    sql = f\"INSERT INTO PYTHON_BOARD VALUES ({dicData['boardNum']})\"\n",
    "    cursor.execute(sql)"
   ]
  },
  {
   "cell_type": "code",
   "execution_count": null,
   "metadata": {},
   "outputs": [],
   "source": [
    "dicData = {\n",
    "    'boardNum' : 4,\n",
    "    'title' : '꼬북꼬복',\n",
    "    'writer' : '꼬부기',\n",
    "    'readCnt' : 5\n",
    "}"
   ]
  },
  {
   "cell_type": "code",
   "execution_count": null,
   "metadata": {},
   "outputs": [],
   "source": []
  },
  {
   "cell_type": "code",
   "execution_count": null,
   "metadata": {},
   "outputs": [],
   "source": []
  },
  {
   "cell_type": "code",
   "execution_count": null,
   "metadata": {},
   "outputs": [],
   "source": []
  },
  {
   "cell_type": "code",
   "execution_count": null,
   "metadata": {},
   "outputs": [],
   "source": []
  },
  {
   "cell_type": "code",
   "execution_count": null,
   "metadata": {},
   "outputs": [],
   "source": []
  },
  {
   "cell_type": "code",
   "execution_count": null,
   "metadata": {},
   "outputs": [],
   "source": []
  },
  {
   "cell_type": "code",
   "execution_count": null,
   "metadata": {},
   "outputs": [],
   "source": []
  },
  {
   "cell_type": "code",
   "execution_count": null,
   "metadata": {},
   "outputs": [],
   "source": []
  }
 ],
 "metadata": {
  "kernelspec": {
   "display_name": "Python 3",
   "language": "python",
   "name": "python3"
  },
  "language_info": {
   "codemirror_mode": {
    "name": "ipython",
    "version": 3
   },
   "file_extension": ".py",
   "mimetype": "text/x-python",
   "name": "python",
   "nbconvert_exporter": "python",
   "pygments_lexer": "ipython3",
   "version": "3.12.2"
  }
 },
 "nbformat": 4,
 "nbformat_minor": 2
}
