{
 "cells": [
  {
   "cell_type": "markdown",
   "metadata": {},
   "source": [
    "### 함수"
   ]
  },
  {
   "cell_type": "code",
   "execution_count": 3,
   "metadata": {},
   "outputs": [],
   "source": [
    "# 함수의 기본형태\n",
    "def test1():\n",
    "    print(1)"
   ]
  },
  {
   "cell_type": "code",
   "execution_count": 2,
   "metadata": {},
   "outputs": [
    {
     "name": "stdout",
     "output_type": "stream",
     "text": [
      "1\n"
     ]
    }
   ],
   "source": [
    "test1()"
   ]
  },
  {
   "cell_type": "code",
   "execution_count": 8,
   "metadata": {},
   "outputs": [],
   "source": [
    "# 리턴이 있는 함수\n",
    "def getNum():\n",
    "    return 10\n",
    "\n",
    "val = getNum()"
   ]
  },
  {
   "cell_type": "code",
   "execution_count": 11,
   "metadata": {},
   "outputs": [
    {
     "name": "stdout",
     "output_type": "stream",
     "text": [
      "3\n"
     ]
    }
   ],
   "source": [
    "# 매개변수로 전달 되는 두 수의 합을 리턴하는 함수를 만들고 호출\n",
    "\n",
    "def getSum(num1, num2):\n",
    "    return num1 + num2\n",
    "\n",
    "print(getSum(1, 2))"
   ]
  },
  {
   "cell_type": "code",
   "execution_count": 14,
   "metadata": {},
   "outputs": [
    {
     "name": "stdout",
     "output_type": "stream",
     "text": [
      "(10, 20)\n",
      "10\n",
      "20\n"
     ]
    }
   ],
   "source": [
    "# 파이썬은 필요 하다면 여러 데이터를 return 할 수 있다\n",
    "def test2():\n",
    "    return 10, 20\n",
    "\n",
    "# 결과가 Tuple(튜플) 자료형으로 나옴.\n",
    "# Tuple : list와 동일하나, 값을 변경하지 못하는 자료형\n",
    "val1 = test2()\n",
    "print(val1)\n",
    "\n",
    "num1, num2 = test2()\n",
    "print(num1)\n",
    "print(num2)"
   ]
  },
  {
   "cell_type": "code",
   "execution_count": 27,
   "metadata": {},
   "outputs": [],
   "source": [
    "# 파이썬은 매개변수의 값을 자바와 다르게 지정할 수 있다.\n",
    "def intro(name, age):\n",
    "    print(f'이름은 {name}이고, 나이는 {age}입니다.')"
   ]
  },
  {
   "cell_type": "code",
   "execution_count": 28,
   "metadata": {},
   "outputs": [
    {
     "name": "stdout",
     "output_type": "stream",
     "text": [
      "이름은 홍길동이고, 나이는 20입니다.\n",
      "이름은 홍길동이고, 나이는 20입니다.\n",
      "이름은 김이고, 나이는 30입니다.\n"
     ]
    }
   ],
   "source": [
    "intro('홍길동', 20)\n",
    "# 매개변수의 이름으로 값을 전달할 수 있음\n",
    "intro(name = '홍길동', age = 20)\n",
    "intro(age = 30, name = '김')"
   ]
  },
  {
   "cell_type": "code",
   "execution_count": 31,
   "metadata": {},
   "outputs": [],
   "source": [
    "# 함수 선언 시 매개변수의 기본값(default)을 지정할 수 있음\n",
    "def mySum(a, b = 10, c = 20):\n",
    "    return a + b + c\n",
    "\n",
    "# 기본 값이 없는 건 무조건 왼쪽에 둬야 함\n",
    "# def mySum2(a = 1, b, c = 20):\n",
    "    return a + b + c\n"
   ]
  },
  {
   "cell_type": "code",
   "execution_count": 30,
   "metadata": {},
   "outputs": [
    {
     "name": "stdout",
     "output_type": "stream",
     "text": [
      "6\n",
      "23\n"
     ]
    }
   ],
   "source": [
    "print(mySum(1, 2, 3))\n",
    "print(mySum(1, 2))\n",
    "print(mySum(1))\n",
    "print(mySum(b = 5, a = 10, c = 3))\n",
    "\n",
    "print(10, end = ' ')\n"
   ]
  },
  {
   "cell_type": "code",
   "execution_count": 50,
   "metadata": {},
   "outputs": [
    {
     "name": "stdout",
     "output_type": "stream",
     "text": [
      "21\n"
     ]
    }
   ],
   "source": [
    "# 1. 매개변수로 두 개의 리스트를 받아, 두 리스트에 저장된 \n",
    "# 모든 데이터의 합을 리턴하는 함수 선언\n",
    "\n",
    "list_1 = [1, 2, 3]\n",
    "list_2 = [4, 5, 6]\n",
    "\n",
    "def lists(list1, list2):\n",
    "    return sum(list1) + sum(list2)\n",
    "\n",
    "print(lists(list_1, list_2))"
   ]
  },
  {
   "cell_type": "code",
   "execution_count": 45,
   "metadata": {},
   "outputs": [
    {
     "name": "stdout",
     "output_type": "stream",
     "text": [
      "[3, 4, 5]\n"
     ]
    },
    {
     "data": {
      "text/plain": [
       "[3, 4, 5]"
      ]
     },
     "execution_count": 45,
     "metadata": {},
     "output_type": "execute_result"
    }
   ],
   "source": [
    "# 2. 매개변수로 두 개의 리스트를 받아, 두 리스트에서 중복 된\n",
    "# 데이터만을 갖는 새로운 리스트를 리턴하는 함수\n",
    "\n",
    "list_3 = [1, 2, 3, 4, 5]\n",
    "list_4 = [3, 4, 5, 6, 7]\n",
    "list_5 = []\n",
    "\n",
    "def find(list1, list2):\n",
    "    for i in list1:\n",
    "        if i in list2:\n",
    "            list_5.append(i)\n",
    "    return list_5\n",
    "\n",
    "print(find(list_3, list_4))\n",
    "list_5"
   ]
  },
  {
   "cell_type": "code",
   "execution_count": 52,
   "metadata": {},
   "outputs": [
    {
     "name": "stdout",
     "output_type": "stream",
     "text": [
      "{'name': 'kim', 'age': 29}\n"
     ]
    }
   ],
   "source": [
    "# changeValueOfDic(딕셔너리, 변경할 key, 변경할 value)\n",
    "# 만약 찾는 key가 없다면 '변경할 key를 찾지 못했습니다.'가 출력\n",
    "\n",
    "dic1 = {\n",
    "    'name' : 'park',\n",
    "    'age' : 33\n",
    "}\n",
    "\n",
    "def changeValueOfDic(dic, key, value):\n",
    "    if key in dic:\n",
    "        dic[key] = value\n",
    "    else:\n",
    "        print('값을 찾지 못 했습니다.')\n",
    "    \n",
    "# def changeValueOfDic(dic1, key, value):\n",
    "    # if key in dic:\n",
    "    # dic[key] = value\n",
    "\n",
    "changeValueOfDic(dic1, 'name', 'kim')\n",
    "changeValueOfDic(dic1, 'age', 29)\n",
    "\n",
    "print(dic1)"
   ]
  }
 ],
 "metadata": {
  "kernelspec": {
   "display_name": "Python 3",
   "language": "python",
   "name": "python3"
  },
  "language_info": {
   "codemirror_mode": {
    "name": "ipython",
    "version": 3
   },
   "file_extension": ".py",
   "mimetype": "text/x-python",
   "name": "python",
   "nbconvert_exporter": "python",
   "pygments_lexer": "ipython3",
   "version": "3.12.2"
  }
 },
 "nbformat": 4,
 "nbformat_minor": 2
}
